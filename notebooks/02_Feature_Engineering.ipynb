import pandas as pd
from scripts.connect_mysql import fetch_data

query = "SELECT * FROM transactions;"
data = fetch_data(query)

df = pd.DataFrame(data)

# Feature: Hour of transaction
df['transaction_time'] = pd.to_datetime(df['transaction_time'])
df['hour'] = df['transaction_time'].dt.hour

# Feature: Amount binning
df['amount_bin'] = pd.cut(df['amount'],
                          bins=[0, 100, 500, 1000, 5000, 10000],
                          labels=['very_low', 'low', 'medium', 'high', 'very_high'])

# Convert categorical
df = pd.get_dummies(df, columns=['category', 'amount_bin'])

df.to_csv('../data/processed_transactions.csv', index=False)
