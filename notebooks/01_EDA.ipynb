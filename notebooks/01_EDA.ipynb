

# --------------------------------------
# 1️⃣ Imports & Load Raw Transactions
# --------------------------------------

import pandas as pd
import seaborn as sns
import matplotlib.pyplot as plt

from scripts.utils import load_csv, print_separator

# Load the raw CSV
df = load_csv('../data/raw_transactions.csv')

# --------------------------------------
# 2️⃣ Basic Info & Missing Values
# --------------------------------------

print_separator("Basic Info")
print(df.info())

print_separator("Missing Values")
print(df.isnull().sum())

# --------------------------------------
# 3️⃣ First Rows
# --------------------------------------

print_separator("First 5 Rows")
print(df.head())

# --------------------------------------
# 4️⃣ Descriptive Statistics
# --------------------------------------

print_separator("Descriptive Stats")
print(df.describe())

# --------------------------------------
# 5️⃣ Class Imbalance
# --------------------------------------

print_separator("Fraudulent vs Non-Fraudulent")
print(df['is_fraud'].value_counts())

sns.countplot(x='is_fraud', data=df)
plt.title("Class Imbalance: Fraud vs Non-Fraud")
plt.xlabel("Is Fraud")
plt.ylabel("Count")
plt.show()

# --------------------------------------
# 6️⃣ Transaction Amount Distribution
# --------------------------------------

sns.histplot(df['amount'], bins=50, kde=True)
plt.title("Transaction Amount Distribution")
plt.xlabel("Amount")
plt.ylabel("Frequency")
plt.show()

# --------------------------------------
# 7️⃣ Transactions by Category
# --------------------------------------

sns.countplot(x='category', data=df)
plt.title("Transaction Category Distribution")
plt.xlabel("Category")
plt.ylabel("Count")
plt.xticks(rotation=45)
plt.show()

# --------------------------------------
# 8️⃣ Fraud Rate by Category
# --------------------------------------

fraud_rate = df.groupby('category')['is_fraud'].mean().reset_index()
sns.barplot(x='category', y='is_fraud', data=fraud_rate)
plt.title("Fraud Rate by Transaction Category")
plt.xlabel("Category")
plt.ylabel("Fraud Rate")
plt.xticks(rotation=45)
plt.show()

# --------------------------------------
# 9️⃣ Transactions by Hour
# --------------------------------------

df['transaction_time'] = pd.to_datetime(df['transaction_time'])
df['hour'] = df['transaction_time'].dt.hour

sns.histplot(df['hour'], bins=24, kde=False)
plt.title("Transactions by Hour of Day")
plt.xlabel("Hour")
plt.ylabel("Count")
plt.show()
