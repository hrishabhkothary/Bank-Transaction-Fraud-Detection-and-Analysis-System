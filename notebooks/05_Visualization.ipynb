import seaborn as sns
import matplotlib.pyplot as plt

# Plot class imbalance
sns.countplot(x='is_fraud', data=df)
plt.title('Fraud vs Non-Fraud Transactions')
plt.show()

# Correlation heatmap
corr = df.corr()
plt.figure(figsize=(12,10))
sns.heatmap(corr, annot=True, cmap='coolwarm')
plt.title('Feature Correlation Heatmap')
plt.show()
